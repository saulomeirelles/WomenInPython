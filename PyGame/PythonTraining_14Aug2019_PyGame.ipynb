{
 "cells": [
  {
   "cell_type": "markdown",
   "metadata": {},
   "source": [
    "#### Install PyGame: python3 -m pip install -U pygame --user\n",
    "#### Test PyGame: python3 -m pygame.examples.aliens\n"
   ]
  },
  {
   "cell_type": "code",
   "execution_count": 1,
   "metadata": {},
   "outputs": [
    {
     "name": "stdout",
     "output_type": "stream",
     "text": [
      "pygame 1.9.6\n",
      "Hello from the pygame community. https://www.pygame.org/contribute.html\n"
     ]
    }
   ],
   "source": [
    "# Import package\n",
    "import pygame\n",
    "import random\n",
    "\n",
    "#constants\n",
    "WIDTH  = 800\n",
    "HEIGHT = 600\n",
    "FPS    = 30\n",
    "SPEED  = 5\n",
    "\n",
    "# define colors\n",
    "WHITE  = (255, 255, 255)\n",
    "BLACK  = (0, 0, 0)\n",
    "RED    = (255, 0, 0)\n",
    "GREEN  = (0, 255, 0)\n",
    "BLUE   = (0, 0, 255)"
   ]
  },
  {
   "cell_type": "code",
   "execution_count": 6,
   "metadata": {},
   "outputs": [
    {
     "name": "stdout",
     "output_type": "stream",
     "text": [
      "0\n",
      "1\n",
      "2\n",
      "3\n",
      "4\n"
     ]
    }
   ],
   "source": [
    "'''\n",
    "Quick review - while\n",
    "'''\n",
    "\n",
    "count = 0\n",
    "while count < 5:\n",
    "    print(count)\n",
    "    count += 1  # This is the same as count = count + 1\n",
    "    \n",
    "# Prints out 0,1,2,3,4"
   ]
  },
  {
   "cell_type": "code",
   "execution_count": 7,
   "metadata": {},
   "outputs": [
    {
     "name": "stdout",
     "output_type": "stream",
     "text": [
      "1000\n"
     ]
    }
   ],
   "source": [
    "'''\n",
    "Quick review - while\n",
    "'''\n",
    "count = 0\n",
    "while True:\n",
    "    count += 1\n",
    "    if count >= 1000:\n",
    "        print(count)\n",
    "        break"
   ]
  },
  {
   "cell_type": "code",
   "execution_count": 2,
   "metadata": {
    "collapsed": true
   },
   "outputs": [
    {
     "ename": "KeyboardInterrupt",
     "evalue": "",
     "output_type": "error",
     "traceback": [
      "\u001b[1;31m---------------------------------------------------------------------------\u001b[0m",
      "\u001b[1;31mKeyboardInterrupt\u001b[0m                         Traceback (most recent call last)",
      "\u001b[1;32m<ipython-input-2-0e70ea66ef76>\u001b[0m in \u001b[0;36m<module>\u001b[1;34m()\u001b[0m\n\u001b[0;32m     10\u001b[0m \u001b[1;32mwhile\u001b[0m \u001b[0mTrue\u001b[0m\u001b[1;33m:\u001b[0m\u001b[1;33m\u001b[0m\u001b[0m\n\u001b[0;32m     11\u001b[0m         \u001b[1;31m# keep loop running at the right speed\u001b[0m\u001b[1;33m\u001b[0m\u001b[1;33m\u001b[0m\u001b[0m\n\u001b[1;32m---> 12\u001b[1;33m         \u001b[0mclock\u001b[0m\u001b[1;33m.\u001b[0m\u001b[0mtick\u001b[0m\u001b[1;33m(\u001b[0m\u001b[0mFPS\u001b[0m\u001b[1;33m)\u001b[0m\u001b[1;33m\u001b[0m\u001b[0m\n\u001b[0m\u001b[0;32m     13\u001b[0m         \u001b[1;31m# Process input (events)\u001b[0m\u001b[1;33m\u001b[0m\u001b[1;33m\u001b[0m\u001b[0m\n\u001b[0;32m     14\u001b[0m         \u001b[1;32mfor\u001b[0m \u001b[0mevent\u001b[0m \u001b[1;32min\u001b[0m \u001b[0mpygame\u001b[0m\u001b[1;33m.\u001b[0m\u001b[0mevent\u001b[0m\u001b[1;33m.\u001b[0m\u001b[0mget\u001b[0m\u001b[1;33m(\u001b[0m\u001b[1;33m)\u001b[0m\u001b[1;33m:\u001b[0m\u001b[1;33m\u001b[0m\u001b[0m\n",
      "\u001b[1;31mKeyboardInterrupt\u001b[0m: "
     ]
    }
   ],
   "source": [
    "'''\n",
    "Very first step\n",
    "'''\n",
    "# initialize pygame and create window\n",
    "pygame.init()\n",
    "screen = pygame.display.set_mode((WIDTH, HEIGHT))\n",
    "pygame.display.set_caption(\"Women in Python\")\n",
    "clock  = pygame.time.Clock()\n",
    "\n",
    "while True:\n",
    "\t# keep loop running at the right speed\n",
    "\tclock.tick(FPS)\n",
    "\t# Process input (events)\n",
    "\tfor event in pygame.event.get():\n",
    "\t    # check for closing window\n",
    "\t\tif event.type == pygame.QUIT:\n",
    "\t\t\texit()\n",
    "\n",
    "\tscreen.fill(BLUE)\n",
    "\n",
    "\tpygame.display.flip()\n",
    "\n",
    "pygame.quit()"
   ]
  },
  {
   "cell_type": "code",
   "execution_count": 1,
   "metadata": {},
   "outputs": [
    {
     "name": "stdout",
     "output_type": "stream",
     "text": [
      "Hello my name is Paul\n"
     ]
    },
    {
     "data": {
      "text/plain": [
       "<__main__.myclass instance at 0x7f90141e92d8>"
      ]
     },
     "execution_count": 1,
     "metadata": {},
     "output_type": "execute_result"
    }
   ],
   "source": [
    "'''\n",
    "Quick review - Class\n",
    "'''\n",
    "class myclass():\n",
    "    def __init__(self, name, age):\n",
    "        self.name = name\n",
    "        self.age  = age\n",
    "\n",
    "    def myfunc(self):\n",
    "        print(\"Hello my name is \" + self.name)\n",
    "\n",
    "myinput = myclass(\"Paul\", 22)\n",
    "myinput.myfunc()"
   ]
  },
  {
   "cell_type": "code",
   "execution_count": 5,
   "metadata": {
    "collapsed": true
   },
   "outputs": [
    {
     "ename": "KeyboardInterrupt",
     "evalue": "",
     "output_type": "error",
     "traceback": [
      "\u001b[1;31m---------------------------------------------------------------------------\u001b[0m",
      "\u001b[1;31mKeyboardInterrupt\u001b[0m                         Traceback (most recent call last)",
      "\u001b[1;32m<ipython-input-5-3ee0e8d08db9>\u001b[0m in \u001b[0;36m<module>\u001b[1;34m()\u001b[0m\n\u001b[0;32m     23\u001b[0m \u001b[1;32mwhile\u001b[0m \u001b[0mTrue\u001b[0m\u001b[1;33m:\u001b[0m\u001b[1;33m\u001b[0m\u001b[0m\n\u001b[0;32m     24\u001b[0m     \u001b[1;31m# keep loop running at the right speed\u001b[0m\u001b[1;33m\u001b[0m\u001b[1;33m\u001b[0m\u001b[0m\n\u001b[1;32m---> 25\u001b[1;33m     \u001b[0mclock\u001b[0m\u001b[1;33m.\u001b[0m\u001b[0mtick\u001b[0m\u001b[1;33m(\u001b[0m\u001b[0mFPS\u001b[0m\u001b[1;33m)\u001b[0m\u001b[1;33m\u001b[0m\u001b[0m\n\u001b[0m\u001b[0;32m     26\u001b[0m     \u001b[1;31m# Process input (events)\u001b[0m\u001b[1;33m\u001b[0m\u001b[1;33m\u001b[0m\u001b[0m\n\u001b[0;32m     27\u001b[0m     \u001b[1;32mfor\u001b[0m \u001b[0mevent\u001b[0m \u001b[1;32min\u001b[0m \u001b[0mpygame\u001b[0m\u001b[1;33m.\u001b[0m\u001b[0mevent\u001b[0m\u001b[1;33m.\u001b[0m\u001b[0mget\u001b[0m\u001b[1;33m(\u001b[0m\u001b[1;33m)\u001b[0m\u001b[1;33m:\u001b[0m\u001b[1;33m\u001b[0m\u001b[0m\n",
      "\u001b[1;31mKeyboardInterrupt\u001b[0m: "
     ]
    }
   ],
   "source": [
    "'''\n",
    "Create the player (sprite)\n",
    "'''\n",
    "\n",
    "# initialize pygame and create window\n",
    "pygame.init()\n",
    "screen = pygame.display.set_mode((WIDTH, HEIGHT))\n",
    "pygame.display.set_caption(\"Women in Python\")\n",
    "clock  = pygame.time.Clock()\n",
    "\n",
    "class Player(pygame.sprite.Sprite):\n",
    "    def __init__(self):\n",
    "        pygame.sprite.Sprite.__init__(self)\n",
    "        self.image = pygame.Surface((50, 50))\n",
    "        self.image.fill(RED)\n",
    "        self.rect = self.image.get_rect()\n",
    "        self.rect.center = (WIDTH / 2, HEIGHT / 2)\n",
    "        \n",
    "my_sprite = pygame.sprite.Group()\n",
    "player      = Player()\n",
    "my_sprite.add(player)\n",
    "\n",
    "while True:\n",
    "    # keep loop running at the right speed\n",
    "    clock.tick(FPS)\n",
    "    # Process input (events)\n",
    "    for event in pygame.event.get():\n",
    "    # check for closing window\n",
    "        if event.type == pygame.QUIT:\n",
    "            exit()\n",
    "\n",
    "    screen.fill(BLUE)\n",
    "\n",
    "    my_sprite.draw(screen)\n",
    "\n",
    "    pygame.display.flip()\n",
    "\n",
    "pygame.quit()"
   ]
  },
  {
   "cell_type": "code",
   "execution_count": 2,
   "metadata": {
    "collapsed": true
   },
   "outputs": [
    {
     "ename": "KeyboardInterrupt",
     "evalue": "",
     "output_type": "error",
     "traceback": [
      "\u001b[1;31m---------------------------------------------------------------------------\u001b[0m",
      "\u001b[1;31mKeyboardInterrupt\u001b[0m                         Traceback (most recent call last)",
      "\u001b[1;32m<ipython-input-2-1965f9c530f1>\u001b[0m in \u001b[0;36m<module>\u001b[1;34m()\u001b[0m\n\u001b[0;32m     28\u001b[0m \u001b[1;32mwhile\u001b[0m \u001b[0mTrue\u001b[0m\u001b[1;33m:\u001b[0m\u001b[1;33m\u001b[0m\u001b[0m\n\u001b[0;32m     29\u001b[0m     \u001b[1;31m# keep loop running at the right speed\u001b[0m\u001b[1;33m\u001b[0m\u001b[1;33m\u001b[0m\u001b[0m\n\u001b[1;32m---> 30\u001b[1;33m     \u001b[0mclock\u001b[0m\u001b[1;33m.\u001b[0m\u001b[0mtick\u001b[0m\u001b[1;33m(\u001b[0m\u001b[0mFPS\u001b[0m\u001b[1;33m)\u001b[0m\u001b[1;33m\u001b[0m\u001b[0m\n\u001b[0m\u001b[0;32m     31\u001b[0m     \u001b[1;31m# Process input (events)\u001b[0m\u001b[1;33m\u001b[0m\u001b[1;33m\u001b[0m\u001b[0m\n\u001b[0;32m     32\u001b[0m     \u001b[1;32mfor\u001b[0m \u001b[0mevent\u001b[0m \u001b[1;32min\u001b[0m \u001b[0mpygame\u001b[0m\u001b[1;33m.\u001b[0m\u001b[0mevent\u001b[0m\u001b[1;33m.\u001b[0m\u001b[0mget\u001b[0m\u001b[1;33m(\u001b[0m\u001b[1;33m)\u001b[0m\u001b[1;33m:\u001b[0m\u001b[1;33m\u001b[0m\u001b[0m\n",
      "\u001b[1;31mKeyboardInterrupt\u001b[0m: "
     ]
    }
   ],
   "source": [
    "'''\n",
    "Move the player (sprite)\n",
    "'''\n",
    "\n",
    "# initialize pygame and create window\n",
    "pygame.init()\n",
    "screen = pygame.display.set_mode((WIDTH, HEIGHT))\n",
    "pygame.display.set_caption(\"Women in Python\")\n",
    "clock  = pygame.time.Clock()\n",
    "\n",
    "class Player(pygame.sprite.Sprite):\n",
    "    def __init__(self):\n",
    "        pygame.sprite.Sprite.__init__(self)\n",
    "        self.image = pygame.Surface((50, 50))\n",
    "        self.image.fill(RED)\n",
    "        self.rect = self.image.get_rect()\n",
    "        self.rect.center = (WIDTH / 2, HEIGHT / 2)\n",
    "        \n",
    "    def update(self):\n",
    "        self.rect.x += 5\n",
    "#         if self.rect.left > WIDTH:\n",
    "#             self.rect.right = 0\n",
    "        \n",
    "my_sprite = pygame.sprite.Group()\n",
    "player      = Player()\n",
    "my_sprite.add(player)\n",
    "\n",
    "while True:\n",
    "    # keep loop running at the right speed\n",
    "    clock.tick(FPS)\n",
    "    # Process input (events)\n",
    "    for event in pygame.event.get():\n",
    "    # check for closing window\n",
    "        if event.type == pygame.QUIT:\n",
    "            exit()\n",
    "\n",
    "    screen.fill(BLUE)\n",
    "\n",
    "    my_sprite.draw(screen)\n",
    "    \n",
    "    my_sprite.update()\n",
    "\n",
    "    pygame.display.flip()\n",
    "\n",
    "pygame.quit()"
   ]
  },
  {
   "cell_type": "code",
   "execution_count": 1,
   "metadata": {
    "collapsed": true
   },
   "outputs": [
    {
     "name": "stdout",
     "output_type": "stream",
     "text": [
      "pygame 1.9.6\n",
      "Hello from the pygame community. https://www.pygame.org/contribute.html\n"
     ]
    },
    {
     "ename": "KeyboardInterrupt",
     "evalue": "",
     "output_type": "error",
     "traceback": [
      "\u001b[1;31m---------------------------------------------------------------------------\u001b[0m",
      "\u001b[1;31mKeyboardInterrupt\u001b[0m                         Traceback (most recent call last)",
      "\u001b[1;32m<ipython-input-1-974259c81b7e>\u001b[0m in \u001b[0;36m<module>\u001b[1;34m()\u001b[0m\n\u001b[0;32m     56\u001b[0m \u001b[1;32mwhile\u001b[0m \u001b[0mTrue\u001b[0m\u001b[1;33m:\u001b[0m\u001b[1;33m\u001b[0m\u001b[0m\n\u001b[0;32m     57\u001b[0m         \u001b[1;31m# keep loop running at the right speed\u001b[0m\u001b[1;33m\u001b[0m\u001b[1;33m\u001b[0m\u001b[0m\n\u001b[1;32m---> 58\u001b[1;33m         \u001b[0mclock\u001b[0m\u001b[1;33m.\u001b[0m\u001b[0mtick\u001b[0m\u001b[1;33m(\u001b[0m\u001b[0mFPS\u001b[0m\u001b[1;33m)\u001b[0m\u001b[1;33m\u001b[0m\u001b[0m\n\u001b[0m\u001b[0;32m     59\u001b[0m         \u001b[1;31m# Process input (events)\u001b[0m\u001b[1;33m\u001b[0m\u001b[1;33m\u001b[0m\u001b[0m\n\u001b[0;32m     60\u001b[0m         \u001b[1;32mfor\u001b[0m \u001b[0mevent\u001b[0m \u001b[1;32min\u001b[0m \u001b[0mpygame\u001b[0m\u001b[1;33m.\u001b[0m\u001b[0mevent\u001b[0m\u001b[1;33m.\u001b[0m\u001b[0mget\u001b[0m\u001b[1;33m(\u001b[0m\u001b[1;33m)\u001b[0m\u001b[1;33m:\u001b[0m\u001b[1;33m\u001b[0m\u001b[0m\n",
      "\u001b[1;31mKeyboardInterrupt\u001b[0m: "
     ]
    }
   ],
   "source": [
    "# The game\n",
    "import pygame\n",
    "import random\n",
    "\n",
    "WIDTH  = 800\n",
    "HEIGHT = 600\n",
    "FPS    = 30\n",
    "SPEED  = 5\n",
    "\n",
    "# define colors\n",
    "WHITE  = (255, 255, 255)\n",
    "BLACK  = (0, 0, 0)\n",
    "RED    = (255, 0, 0)\n",
    "GREEN  = (0, 255, 0)\n",
    "BLUE   = (0, 0, 255)\n",
    "\n",
    "# initial velocity\n",
    "\n",
    "x_change = 0\n",
    "y_change = 0\n",
    "\n",
    "class Player(pygame.sprite.Sprite):\n",
    "\tdef __init__(self):\n",
    "\t\tpygame.sprite.Sprite.__init__(self)\n",
    "\t\tself.image = pygame.Surface((50,50))\n",
    "\t\tself.image.fill(GREEN)\n",
    "\t\tself.rect = self.image.get_rect()\n",
    "\t\tself.rect.center = ( WIDTH / 2, HEIGHT / 2 )\n",
    "\n",
    "\tdef update(self):\n",
    "\t\tself.rect.x += x_change #5\n",
    "\t\tself.rect.y += y_change\n",
    "\n",
    "\t\tif self.rect.right > WIDTH:\n",
    "\t\t\tself.rect.right = WIDTH\n",
    "\t\t\n",
    "\t\tif self.rect.left < 0:\n",
    "\t\t\tself.rect.left = 0\n",
    "\n",
    "\t\tif self.rect.top < 0:\n",
    "\t\t\tself.rect.top = 0\n",
    "\t\t\n",
    "\t\tif self.rect.bottom > HEIGHT:\n",
    "\t\t\tself.rect.bottom = HEIGHT\n",
    "\n",
    "# initialize pygame and create window\n",
    "pygame.init()\n",
    "screen = pygame.display.set_mode((WIDTH, HEIGHT))\n",
    "pygame.display.set_caption(\"Women in Python\")\n",
    "clock  = pygame.time.Clock()\n",
    "\n",
    "my_sprite = pygame.sprite.Group()\n",
    "player      = Player() \n",
    "my_sprite.add(player)\n",
    "\n",
    "while True:\n",
    "\t# keep loop running at the right speed\n",
    "\tclock.tick(FPS)\n",
    "\t# Process input (events)\n",
    "\tfor event in pygame.event.get():\n",
    "\t    # check for closing window\n",
    "\t\tif event.type == pygame.QUIT:\n",
    "\t\t\texit()\n",
    "\n",
    "\n",
    "\tkeys = pygame.key.get_pressed()  #checking pressed keys\t\n",
    "\n",
    "\tif keys[pygame.K_LEFT]:\n",
    "\t\tx_change = -SPEED\n",
    "\t\ty_change = 0\n",
    "\t\n",
    "\tif keys[pygame.K_RIGHT]:\n",
    "\t\tx_change = SPEED\n",
    "\t\ty_change = 0\n",
    "\n",
    "\tif keys[pygame.K_UP]:\n",
    "\t\ty_change = -SPEED\n",
    "\t\tx_change = 0\n",
    "\t\n",
    "\tif keys[pygame.K_DOWN]:\n",
    "\t\ty_change = SPEED\n",
    "\t\tx_change = 0\n",
    "\n",
    "\t# Update\n",
    "\tmy_sprite.update()\n",
    "\n",
    "\t# Draw / render\n",
    "\tscreen.fill(BLUE)\n",
    "\tmy_sprite.draw(screen)\n",
    "\t# *after* drawing everything, flip the display\n",
    "\tpygame.display.flip()\n",
    "\n",
    "pygame.quit()"
   ]
  },
  {
   "cell_type": "markdown",
   "metadata": {
    "collapsed": true
   },
   "source": [
    "### References"
   ]
  },
  {
   "cell_type": "markdown",
   "metadata": {},
   "source": [
    "#### https://medium.com/@jodylecompte/code-your-first-game-in-pygame-5585dfcc6388\n",
    "#### http://kidscancode.org/blog/2016/08/pygame_1-2_working-with-sprites/"
   ]
  },
  {
   "cell_type": "code",
   "execution_count": null,
   "metadata": {},
   "outputs": [],
   "source": []
  }
 ],
 "metadata": {
  "kernelspec": {
   "display_name": "Python 3",
   "language": "python",
   "name": "python3"
  },
  "language_info": {
   "codemirror_mode": {
    "name": "ipython",
    "version": 2
   },
   "file_extension": ".py",
   "mimetype": "text/x-python",
   "name": "python",
   "nbconvert_exporter": "python",
   "pygments_lexer": "ipython2",
   "version": "2.7.15"
  }
 },
 "nbformat": 4,
 "nbformat_minor": 2
}
