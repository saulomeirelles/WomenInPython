{
 "cells": [
  {
   "cell_type": "code",
   "execution_count": 1,
   "metadata": {},
   "outputs": [
    {
     "ename": "TclError",
     "evalue": "invalid command name \".!text\"",
     "output_type": "error",
     "traceback": [
      "\u001b[1;31m---------------------------------------------------------------------------\u001b[0m",
      "\u001b[1;31mTclError\u001b[0m                                  Traceback (most recent call last)",
      "\u001b[1;32m<ipython-input-1-ed47aa720f13>\u001b[0m in \u001b[0;36m<module>\u001b[1;34m\u001b[0m\n\u001b[0;32m     30\u001b[0m \u001b[0mport\u001b[0m \u001b[1;33m=\u001b[0m \u001b[1;36m12345\u001b[0m                \u001b[1;31m# Reserve a port for your service.\u001b[0m\u001b[1;33m\u001b[0m\u001b[1;33m\u001b[0m\u001b[0m\n\u001b[0;32m     31\u001b[0m \u001b[1;33m\u001b[0m\u001b[0m\n\u001b[1;32m---> 32\u001b[1;33m \u001b[0mtextbox\u001b[0m\u001b[1;33m.\u001b[0m\u001b[0minsert\u001b[0m\u001b[1;33m(\u001b[0m\u001b[0mINSERT\u001b[0m\u001b[1;33m,\u001b[0m\u001b[1;34m\"!!!! Connecting to server .. please wait..... !!!! \\n\"\u001b[0m\u001b[1;33m)\u001b[0m\u001b[1;33m\u001b[0m\u001b[1;33m\u001b[0m\u001b[0m\n\u001b[0m\u001b[0;32m     33\u001b[0m \u001b[0ms\u001b[0m\u001b[1;33m.\u001b[0m\u001b[0mconnect\u001b[0m\u001b[1;33m(\u001b[0m\u001b[1;33m(\u001b[0m\u001b[0mhost\u001b[0m\u001b[1;33m,\u001b[0m \u001b[0mport\u001b[0m\u001b[1;33m)\u001b[0m\u001b[1;33m)\u001b[0m\u001b[1;33m\u001b[0m\u001b[1;33m\u001b[0m\u001b[0m\n\u001b[0;32m     34\u001b[0m \u001b[0mtextbox\u001b[0m\u001b[1;33m.\u001b[0m\u001b[0minsert\u001b[0m\u001b[1;33m(\u001b[0m\u001b[0mINSERT\u001b[0m\u001b[1;33m,\u001b[0m\u001b[1;34m\"!!!! Connected !!!!\\n\"\u001b[0m\u001b[1;33m)\u001b[0m\u001b[1;33m\u001b[0m\u001b[1;33m\u001b[0m\u001b[0m\n",
      "\u001b[1;32m~\\AppData\\Local\\Continuum\\anaconda3\\lib\\tkinter\\__init__.py\u001b[0m in \u001b[0;36minsert\u001b[1;34m(self, index, chars, *args)\u001b[0m\n\u001b[0;32m   3270\u001b[0m         \"\"\"Insert CHARS before the characters at INDEX. An additional\n\u001b[0;32m   3271\u001b[0m         tag can be given in ARGS. Additional CHARS and tags can follow in ARGS.\"\"\"\n\u001b[1;32m-> 3272\u001b[1;33m         \u001b[0mself\u001b[0m\u001b[1;33m.\u001b[0m\u001b[0mtk\u001b[0m\u001b[1;33m.\u001b[0m\u001b[0mcall\u001b[0m\u001b[1;33m(\u001b[0m\u001b[1;33m(\u001b[0m\u001b[0mself\u001b[0m\u001b[1;33m.\u001b[0m\u001b[0m_w\u001b[0m\u001b[1;33m,\u001b[0m \u001b[1;34m'insert'\u001b[0m\u001b[1;33m,\u001b[0m \u001b[0mindex\u001b[0m\u001b[1;33m,\u001b[0m \u001b[0mchars\u001b[0m\u001b[1;33m)\u001b[0m \u001b[1;33m+\u001b[0m \u001b[0margs\u001b[0m\u001b[1;33m)\u001b[0m\u001b[1;33m\u001b[0m\u001b[1;33m\u001b[0m\u001b[0m\n\u001b[0m\u001b[0;32m   3273\u001b[0m     \u001b[1;32mdef\u001b[0m \u001b[0mmark_gravity\u001b[0m\u001b[1;33m(\u001b[0m\u001b[0mself\u001b[0m\u001b[1;33m,\u001b[0m \u001b[0mmarkName\u001b[0m\u001b[1;33m,\u001b[0m \u001b[0mdirection\u001b[0m\u001b[1;33m=\u001b[0m\u001b[1;32mNone\u001b[0m\u001b[1;33m)\u001b[0m\u001b[1;33m:\u001b[0m\u001b[1;33m\u001b[0m\u001b[1;33m\u001b[0m\u001b[0m\n\u001b[0;32m   3274\u001b[0m         \"\"\"Change the gravity of a mark MARKNAME to DIRECTION (LEFT or RIGHT).\n",
      "\u001b[1;31mTclError\u001b[0m: invalid command name \".!text\""
     ]
    }
   ],
   "source": [
    "import socket               # Import socket module\n",
    "from tkinter import *\n",
    "\n",
    "\n",
    "def send():\n",
    "    message = my_msg.get()\n",
    "    textbox.insert(INSERT,\"You said: \\n\")\n",
    "    textbox.insert(INSERT,message)\n",
    "    s.send(bytearray(message,\"utf-8\"))\n",
    "    my_msg.set(\"\")\n",
    "\n",
    "window = Tk()\n",
    "\n",
    "#add title to window\n",
    "window.title(\"Shen me App: Client\")\n",
    "textbox = Text(window)\n",
    "textbox.pack()\n",
    "\n",
    "my_msg = StringVar() \n",
    "entry_field = Entry(window, textvariable=my_msg, width= 100)\n",
    "entry_field.pack()\n",
    "\n",
    "send_button = Button(window, text=\"Send\",command=send)\n",
    "send_button.pack()\n",
    "\n",
    "\n",
    "s = socket.socket()         # Create a socket object\n",
    "host = socket.gethostname() # Get local machine name\n",
    "port = 12345                # Reserve a port for your service.\n",
    "\n",
    "textbox.insert(INSERT,\"!!!! Connecting to server .. please wait..... !!!! \\n\")\n",
    "s.connect((host, port))\n",
    "textbox.insert(INSERT,\"!!!! Connected !!!!\\n\")\n",
    "while True:\n",
    "    recvstr = str(s.recv(512))\n",
    "    textbox.insert(INSERT,\"Server said: \\n\")\n",
    "    textbox.insert(INSERT,recvstr)\n",
    "s.close() \n",
    "window.mainloop()"
   ]
  },
  {
   "cell_type": "code",
   "execution_count": null,
   "metadata": {},
   "outputs": [],
   "source": []
  }
 ],
 "metadata": {
  "kernelspec": {
   "display_name": "Python 3",
   "language": "python",
   "name": "python3"
  },
  "language_info": {
   "codemirror_mode": {
    "name": "ipython",
    "version": 3
   },
   "file_extension": ".py",
   "mimetype": "text/x-python",
   "name": "python",
   "nbconvert_exporter": "python",
   "pygments_lexer": "ipython3",
   "version": "3.7.1"
  }
 },
 "nbformat": 4,
 "nbformat_minor": 2
}
