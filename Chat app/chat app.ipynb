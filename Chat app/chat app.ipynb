{
 "cells": [
  {
   "cell_type": "markdown",
   "metadata": {},
   "source": [
    "# Netwoking using Python: Lets build a chat app!"
   ]
  },
  {
   "cell_type": "markdown",
   "metadata": {},
   "source": [
    "## Some basics:"
   ]
  },
  {
   "cell_type": "markdown",
   "metadata": {},
   "source": [
    "#### IP address : Address assigned by router to each device "
   ]
  },
  {
   "cell_type": "markdown",
   "metadata": {},
   "source": [
    "#### Port number : Identifier which tells a computer as to which application the data should be sent to."
   ]
  },
  {
   "cell_type": "markdown",
   "metadata": {},
   "source": [
    "#### Socket : combination of IP address address and port number."
   ]
  },
  {
   "cell_type": "markdown",
   "metadata": {},
   "source": [
    "#### Client-Server model:"
   ]
  },
  {
   "cell_type": "markdown",
   "metadata": {},
   "source": [
    "![clientserver](clientserver.jpg)"
   ]
  },
  {
   "cell_type": "markdown",
   "metadata": {},
   "source": [
    "#### Python socket APIs:"
   ]
  },
  {
   "cell_type": "code",
   "execution_count": null,
   "metadata": {},
   "outputs": [],
   "source": [
    "import socket"
   ]
  },
  {
   "cell_type": "markdown",
   "metadata": {},
   "source": [
    "##### Server side:"
   ]
  },
  {
   "cell_type": "markdown",
   "metadata": {},
   "source": [
    "s = socket.socket()<br>\n",
    "s.bind(): Binds address (IP address, port number) to socket.<br>\n",
    "s.listen(): Sets up and starts TCP listener.<br>\n",
    "s.accept(): Accepts TCP client connection.<br>\n",
    "s.send(data): sends the data to the socket<br>\n",
    "s.recv(MAX_BYETS) : receives the data from the socket. MAX_BYTES is the maximum words that you can send."
   ]
  },
  {
   "cell_type": "markdown",
   "metadata": {},
   "source": [
    "##### Client side:"
   ]
  },
  {
   "cell_type": "markdown",
   "metadata": {},
   "source": [
    "s = socket.socket()<br>\n",
    "s.connect(): connect address (IP address, port number) to socket.<br>\n",
    "s.send(data): sends the data to the socket<br>\n",
    "s.recv(MAX_BYETS) : receives the data from the socket. MAX_BYTES is the maximum words that you can send."
   ]
  },
  {
   "cell_type": "markdown",
   "metadata": {},
   "source": [
    "### Lets create UI first for our chat app"
   ]
  },
  {
   "cell_type": "code",
   "execution_count": 5,
   "metadata": {},
   "outputs": [],
   "source": [
    "from tkinter import *\n",
    "window = Tk()\n",
    "\n",
    "window.mainloop()"
   ]
  },
  {
   "cell_type": "markdown",
   "metadata": {},
   "source": [
    "#### Lets add some text"
   ]
  },
  {
   "cell_type": "code",
   "execution_count": 8,
   "metadata": {},
   "outputs": [],
   "source": [
    "from tkinter import *\n",
    "window = Tk()\n",
    "\n",
    "#add title to window\n",
    "window.title(\"Lemma App\")\n",
    "text = Text(window)\n",
    "text.insert(INSERT,\"Download lemma app! Its awesome!\")\n",
    "text.pack()\n",
    "window.mainloop()"
   ]
  },
  {
   "cell_type": "code",
   "execution_count": 15,
   "metadata": {},
   "outputs": [],
   "source": [
    "#### Lets add some buttons and text window \n",
    "\n",
    "from tkinter import *\n",
    "window = Tk()\n",
    "\n",
    "def send():\n",
    "    recvmes = \"\\n\"+\"you typed:\"+ my_msg.get()\n",
    "    textbox.insert(INSERT,recvmes)\n",
    "    my_msg.set(\"\")\n",
    "\n",
    "#add title to window\n",
    "window.title(\"Shen me App\")\n",
    "textbox = Text(window)\n",
    "textbox.insert(INSERT,\"!!!! Welcome to our app !!!!\")\n",
    "textbox.pack()\n",
    "\n",
    "my_msg = StringVar() \n",
    "entry_field = Entry(window, textvariable=my_msg, width= 100)\n",
    "entry_field.pack()\n",
    "\n",
    "send_button = Button(window, text=\"Send\",command=send)\n",
    "send_button.pack()\n",
    "\n",
    "window.mainloop()"
   ]
  },
  {
   "cell_type": "markdown",
   "metadata": {},
   "source": [
    "### Lets start Cooking!"
   ]
  },
  {
   "cell_type": "markdown",
   "metadata": {},
   "source": [
    "Step 1: build a server"
   ]
  },
  {
   "cell_type": "code",
   "execution_count": null,
   "metadata": {},
   "outputs": [],
   "source": [
    "import socket               # Import socket module\n",
    "from tkinter import *\n",
    "import threading\n",
    "\n",
    "def send():\n",
    "    message = my_msg.get()\n",
    "    textbox.insert(INSERT,\">>>> \\n\")\n",
    "    textbox.insert(INSERT,message)\n",
    "    textbox.insert(INSERT,\"\\n\\n\")\n",
    "    c.send(bytes(message,\"utf-8\"))\n",
    "    my_msg.set(\"\")\n",
    "\n",
    "\n",
    "def client_read_thread():\n",
    "\n",
    "    while True:\n",
    "        recvstr = c.recv(512).decode(\"utf8\")\n",
    "        if recvstr == \"quit\":\n",
    "            break\n",
    "        textbox.insert(INSERT,\"<<<< \\n\")\n",
    "        textbox.insert(INSERT,recvstr)\n",
    "        textbox.insert(INSERT,\"\\n\\n\")\n",
    "    c.close() \n",
    "\n",
    "\n",
    "\n",
    "window = Tk()\n",
    "#add title to window\n",
    "window.title(\"Shen me App: Server\")\n",
    "textbox = Text(window)\n",
    "textbox.pack()\n",
    "\n",
    "my_msg = StringVar() \n",
    "entry_field = Entry(window, textvariable=my_msg, width= 100)\n",
    "entry_field.pack()\n",
    "\n",
    "send_button = Button(window, text=\"Send\",command=send)\n",
    "send_button.pack()\n",
    "\n",
    "\n",
    "s = socket.socket()         # Create a socket object\n",
    "c = socket.socket()         # Create a socket object\n",
    "host = socket.gethostname() # Get local machine name\n",
    "port = 55555                # Reserve a port for your service.\n",
    "s.bind((host, port))        # Bind to the port\n",
    "\n",
    "print(\"!!!! Waiting for client to connect !!!!\")\n",
    "s.listen(5)                 # Now wait for client connection.\n",
    "c, addr = s.accept()     # Establish connection with client.\n",
    "print('Got connection from', addr)\n",
    "\n",
    "x = threading.Thread(target=client_read_thread,daemon=True)\n",
    "x.start()\n",
    "\n",
    "window.mainloop()"
   ]
  },
  {
   "cell_type": "markdown",
   "metadata": {},
   "source": [
    "Step 2: Building the client"
   ]
  },
  {
   "cell_type": "code",
   "execution_count": null,
   "metadata": {},
   "outputs": [],
   "source": [
    "import socket               # Import socket module\n",
    "from tkinter import *\n",
    "import threading\n",
    "\n",
    "\n",
    "def send():\n",
    "    message = my_msg.get()\n",
    "    textbox.insert(INSERT,\">>>> \\n\")\n",
    "    textbox.insert(INSERT,message)\n",
    "    textbox.insert(INSERT,\"\\n\\n\")\n",
    "    s.send(bytearray(message,\"utf-8\"))\n",
    "    my_msg.set(\"\")\n",
    "\n",
    "def servert_read_thread():\n",
    "    textbox.insert(INSERT,\"!!!! Connecting to server .. please wait..... !!!! \\n\")\n",
    "    s.connect((host, port))\n",
    "    textbox.insert(INSERT,\"!!!! Connected !!!!\\n\")\n",
    "    while True:\n",
    "        recvstr = s.recv(512).decode(\"utf8\")\n",
    "        if recvstr == \"quit\":\n",
    "            break\n",
    "        textbox.insert(INSERT,\"<<<< \\n\")\n",
    "        textbox.insert(INSERT,recvstr)\n",
    "        textbox.insert(INSERT,\"\\n\\n\")\n",
    "    s.close() \n",
    "\n",
    "window = Tk()\n",
    "#add title to window\n",
    "window.title(\"Shen me App: Client\")\n",
    "textbox = Text(window)\n",
    "textbox.pack()\n",
    "\n",
    "my_msg = StringVar() \n",
    "entry_field = Entry(window, textvariable=my_msg, width= 100)\n",
    "entry_field.pack()\n",
    "\n",
    "send_button = Button(window, text=\"Send\",command=send)\n",
    "send_button.pack()\n",
    "\n",
    "s = socket.socket()         # Create a socket object\n",
    "host = socket.gethostname() # Get local machine name\n",
    "port = 55555                # Reserve a port for your service.\n",
    "\n",
    "x = threading.Thread(target=servert_read_thread,daemon=True)\n",
    "x.start()\n",
    "\n",
    "window.mainloop()"
   ]
  }
 ],
 "metadata": {
  "kernelspec": {
   "display_name": "Python 3",
   "language": "python",
   "name": "python3"
  },
  "language_info": {
   "codemirror_mode": {
    "name": "ipython",
    "version": 3
   },
   "file_extension": ".py",
   "mimetype": "text/x-python",
   "name": "python",
   "nbconvert_exporter": "python",
   "pygments_lexer": "ipython3",
   "version": "3.7.1"
  }
 },
 "nbformat": 4,
 "nbformat_minor": 2
}
