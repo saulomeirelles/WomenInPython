{
 "cells": [
  {
   "cell_type": "markdown",
   "metadata": {},
   "source": [
    "# Kelvin Weather \n",
    "Deep in his mountain-side meteorology lab, the mad scientist Kelvin has mastered weather prediction.\n",
    "\n",
    "Recently, Kelvin began publishing his weather forecasts on his website. However there’s a problem: All of his forecasts describe the temperature in Kelvin.\n",
    "\n",
    "let’s convert Kelvin to Celsius, then to Fahrenheit."
   ]
  },
  {
   "cell_type": "markdown",
   "metadata": {},
   "source": [
    "1. The forecast today is 293 Kelvin. To start, create a variable named kelvin, and set it equal to 293.\n",
    "\n",
    "The value saved to kelvin will stay constant. Choose the variable type with this in mind."
   ]
  },
  {
   "cell_type": "markdown",
   "metadata": {},
   "source": [
    "2. Write a comment above that explains this line of code."
   ]
  },
  {
   "cell_type": "markdown",
   "metadata": {},
   "source": [
    "3. Celsius is similar to Kelvin — the only difference is that Celsius is 273 degrees less than Kelvin.\n",
    "\n",
    "Let’s convert Kelvin to Celsius by subtracting 273 from the kelvin variable. Store the result in another variable, named celsius."
   ]
  },
  {
   "cell_type": "markdown",
   "metadata": {},
   "source": [
    "4. Write a comment above that explains this line of code."
   ]
  },
  {
   "cell_type": "markdown",
   "metadata": {},
   "source": [
    "\n",
    "5. Use this equation to calculate Fahrenheit, then store the answer in a variable named fahrenheit.\n",
    "\n",
    "Fahrenheit = Celsius * (9/5) + 32\n",
    "\n",
    "In the next step we will round the number saved to fahrenheit. Choose the variable type that allows you to change its value."
   ]
  },
  {
   "cell_type": "markdown",
   "metadata": {},
   "source": [
    "6. Write a comment above that explains this line of code."
   ]
  },
  {
   "cell_type": "markdown",
   "metadata": {},
   "source": [
    "7. When you convert from Celsius to Fahrenheit, you often get a decimal number.\n",
    "\n",
    "Use the .floor() method from the Math library to round down the Fahrenheit temperature. Save the result to the fahrenheit variable."
   ]
  },
  {
   "cell_type": "markdown",
   "metadata": {},
   "source": [
    "8. Write a comment above that explains this line of code."
   ]
  },
  {
   "cell_type": "markdown",
   "metadata": {},
   "source": [
    "9. Use console.log and string interpolation to log the temperature in fahrenheit to the console as follows:\n",
    "### The temperature is TEMPERATURE degrees Fahrenheit.\n",
    "Use string interpolation to replace TEMPERATURE with the value saved to fahrenheit."
   ]
  },
  {
   "cell_type": "markdown",
   "metadata": {},
   "source": [
    "10. By using variables, your program should work for any Kelvin temperature — just change the value of kelvin and run the program again.\n",
    "\n",
    "What’s 0 Kelvin in Fahrenheit?"
   ]
  },
  {
   "cell_type": "code",
   "execution_count": null,
   "metadata": {},
   "outputs": [],
   "source": []
  }
 ],
 "metadata": {
  "kernelspec": {
   "display_name": "Python 3",
   "language": "python",
   "name": "python3"
  },
  "language_info": {
   "codemirror_mode": {
    "name": "ipython",
    "version": 3
   },
   "file_extension": ".py",
   "mimetype": "text/x-python",
   "name": "python",
   "nbconvert_exporter": "python",
   "pygments_lexer": "ipython3",
   "version": "3.7.1"
  }
 },
 "nbformat": 4,
 "nbformat_minor": 2
}
