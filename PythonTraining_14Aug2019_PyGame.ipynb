{
 "cells": [
  {
   "cell_type": "code",
   "execution_count": 2,
   "metadata": {
    "collapsed": false
   },
   "outputs": [
    {
     "name": "stdout",
     "output_type": "stream",
     "text": [
      "pygame 1.9.4\n",
      "Hello from the pygame community. https://www.pygame.org/contribute.html\n"
     ]
    }
   ],
   "source": [
    "# Import package\n",
    "import pygame\n",
    "import random\n",
    "\n",
    "#constants\n",
    "WIDTH  = 800\n",
    "HEIGHT = 600\n",
    "FPS    = 30\n",
    "SPEED  = 5\n",
    "\n",
    "# define colors\n",
    "WHITE  = (255, 255, 255)\n",
    "BLACK  = (0, 0, 0)\n",
    "RED    = (255, 0, 0)\n",
    "GREEN  = (0, 255, 0)\n",
    "BLUE   = (0, 0, 255)"
   ]
  },
  {
   "cell_type": "code",
   "execution_count": 3,
   "metadata": {
    "collapsed": false
   },
   "outputs": [
    {
     "ename": "KeyboardInterrupt",
     "evalue": "",
     "output_type": "error",
     "traceback": [
      "\u001b[1;31m---------------------------------------------------------------------------\u001b[0m",
      "\u001b[1;31mKeyboardInterrupt\u001b[0m                         Traceback (most recent call last)",
      "\u001b[1;32m<ipython-input-3-3c463ceea915>\u001b[0m in \u001b[0;36m<module>\u001b[1;34m\u001b[0m\n\u001b[0;32m     10\u001b[0m \u001b[1;32mwhile\u001b[0m \u001b[1;32mTrue\u001b[0m\u001b[1;33m:\u001b[0m\u001b[1;33m\u001b[0m\u001b[1;33m\u001b[0m\u001b[0m\n\u001b[0;32m     11\u001b[0m         \u001b[1;31m# keep loop running at the right speed\u001b[0m\u001b[1;33m\u001b[0m\u001b[1;33m\u001b[0m\u001b[1;33m\u001b[0m\u001b[0m\n\u001b[1;32m---> 12\u001b[1;33m         \u001b[0mclock\u001b[0m\u001b[1;33m.\u001b[0m\u001b[0mtick\u001b[0m\u001b[1;33m(\u001b[0m\u001b[0mFPS\u001b[0m\u001b[1;33m)\u001b[0m\u001b[1;33m\u001b[0m\u001b[1;33m\u001b[0m\u001b[0m\n\u001b[0m\u001b[0;32m     13\u001b[0m         \u001b[1;31m# Process input (events)\u001b[0m\u001b[1;33m\u001b[0m\u001b[1;33m\u001b[0m\u001b[1;33m\u001b[0m\u001b[0m\n\u001b[0;32m     14\u001b[0m         \u001b[1;32mfor\u001b[0m \u001b[0mevent\u001b[0m \u001b[1;32min\u001b[0m \u001b[0mpygame\u001b[0m\u001b[1;33m.\u001b[0m\u001b[0mevent\u001b[0m\u001b[1;33m.\u001b[0m\u001b[0mget\u001b[0m\u001b[1;33m(\u001b[0m\u001b[1;33m)\u001b[0m\u001b[1;33m:\u001b[0m\u001b[1;33m\u001b[0m\u001b[1;33m\u001b[0m\u001b[0m\n",
      "\u001b[1;31mKeyboardInterrupt\u001b[0m: "
     ]
    }
   ],
   "source": [
    "'''\n",
    "The least we need to have a game\n",
    "'''\n",
    "# initialize pygame and create window\n",
    "pygame.init()\n",
    "screen = pygame.display.set_mode((WIDTH, HEIGHT))\n",
    "pygame.display.set_caption(\"Women in Python\")\n",
    "clock  = pygame.time.Clock()\n",
    "\n",
    "while True:\n",
    "\t# keep loop running at the right speed\n",
    "\tclock.tick(FPS)\n",
    "\t# Process input (events)\n",
    "\tfor event in pygame.event.get():\n",
    "\t    # check for closing window\n",
    "\t\tif event.type == pygame.QUIT:\n",
    "\t\t\texit()\n",
    "\n",
    "\tscreen.fill(BLUE)\n",
    "\n",
    "\tpygame.display.flip()\n",
    "\n",
    "pygame.quit()"
   ]
  },
  {
   "cell_type": "code",
   "execution_count": 14,
   "metadata": {
    "collapsed": false
   },
   "outputs": [
    {
     "name": "stdout",
     "output_type": "stream",
     "text": [
      "Hello my name is Saulo\n"
     ]
    },
    {
     "data": {
      "text/plain": [
       "<__main__.myclass at 0x27f528cbb70>"
      ]
     },
     "execution_count": 14,
     "metadata": {},
     "output_type": "execute_result"
    }
   ],
   "source": [
    "'''\n",
    "Quick review\n",
    "'''\n",
    "class myclass():\n",
    "    def __init__(self, name, age):\n",
    "        self.name = name\n",
    "        self.age  = age\n",
    "\n",
    "    def myfunc(self):\n",
    "        print(\"Hello my name is \" + self.name)\n",
    "\n",
    "myinput = myclass(\"Saulo\", 38)\n",
    "myinput.myfunc()\n",
    "\n",
    "myinput"
   ]
  },
  {
   "cell_type": "code",
   "execution_count": 1,
   "metadata": {
    "collapsed": false
   },
   "outputs": [
    {
     "name": "stdout",
     "output_type": "stream",
     "text": [
      "pygame 1.9.4\n",
      "Hello from the pygame community. https://www.pygame.org/contribute.html\n"
     ]
    },
    {
     "ename": "KeyboardInterrupt",
     "evalue": "",
     "output_type": "error",
     "traceback": [
      "\u001b[1;31m---------------------------------------------------------------------------\u001b[0m",
      "\u001b[1;31mKeyboardInterrupt\u001b[0m                         Traceback (most recent call last)",
      "\u001b[1;32m<ipython-input-1-5b4dfce52efd>\u001b[0m in \u001b[0;36m<module>\u001b[1;34m\u001b[0m\n\u001b[0;32m     56\u001b[0m \u001b[1;32mwhile\u001b[0m \u001b[1;32mTrue\u001b[0m\u001b[1;33m:\u001b[0m\u001b[1;33m\u001b[0m\u001b[1;33m\u001b[0m\u001b[0m\n\u001b[0;32m     57\u001b[0m         \u001b[1;31m# keep loop running at the right speed\u001b[0m\u001b[1;33m\u001b[0m\u001b[1;33m\u001b[0m\u001b[1;33m\u001b[0m\u001b[0m\n\u001b[1;32m---> 58\u001b[1;33m         \u001b[0mclock\u001b[0m\u001b[1;33m.\u001b[0m\u001b[0mtick\u001b[0m\u001b[1;33m(\u001b[0m\u001b[0mFPS\u001b[0m\u001b[1;33m)\u001b[0m\u001b[1;33m\u001b[0m\u001b[1;33m\u001b[0m\u001b[0m\n\u001b[0m\u001b[0;32m     59\u001b[0m         \u001b[1;31m# Process input (events)\u001b[0m\u001b[1;33m\u001b[0m\u001b[1;33m\u001b[0m\u001b[1;33m\u001b[0m\u001b[0m\n\u001b[0;32m     60\u001b[0m         \u001b[1;32mfor\u001b[0m \u001b[0mevent\u001b[0m \u001b[1;32min\u001b[0m \u001b[0mpygame\u001b[0m\u001b[1;33m.\u001b[0m\u001b[0mevent\u001b[0m\u001b[1;33m.\u001b[0m\u001b[0mget\u001b[0m\u001b[1;33m(\u001b[0m\u001b[1;33m)\u001b[0m\u001b[1;33m:\u001b[0m\u001b[1;33m\u001b[0m\u001b[1;33m\u001b[0m\u001b[0m\n",
      "\u001b[1;31mKeyboardInterrupt\u001b[0m: "
     ]
    }
   ],
   "source": [
    "# The game\n",
    "import pygame\n",
    "import random\n",
    "\n",
    "WIDTH  = 800\n",
    "HEIGHT = 600\n",
    "FPS    = 30\n",
    "SPEED  = 5\n",
    "\n",
    "# define colors\n",
    "WHITE  = (255, 255, 255)\n",
    "BLACK  = (0, 0, 0)\n",
    "RED    = (255, 0, 0)\n",
    "GREEN  = (0, 255, 0)\n",
    "BLUE   = (0, 0, 255)\n",
    "\n",
    "# initial velocity\n",
    "\n",
    "x_change = 0\n",
    "y_change = 0\n",
    "\n",
    "class Player(pygame.sprite.Sprite):\n",
    "\tdef __init__(self):\n",
    "\t\tpygame.sprite.Sprite.__init__(self)\n",
    "\t\tself.image = pygame.Surface((50,50))\n",
    "\t\tself.image.fill(GREEN)\n",
    "\t\tself.rect = self.image.get_rect()\n",
    "\t\tself.rect.center = ( WIDTH / 2, HEIGHT / 2 )\n",
    "\n",
    "\tdef update(self):\n",
    "\t\tself.rect.x += x_change #5\n",
    "\t\tself.rect.y += y_change\n",
    "\n",
    "\t\tif self.rect.right > WIDTH:\n",
    "\t\t\tself.rect.right = WIDTH\n",
    "\t\t\n",
    "\t\tif self.rect.left < 0:\n",
    "\t\t\tself.rect.left = 0\n",
    "\n",
    "\t\tif self.rect.top < 0:\n",
    "\t\t\tself.rect.top = 0\n",
    "\t\t\n",
    "\t\tif self.rect.bottom > HEIGHT:\n",
    "\t\t\tself.rect.bottom = HEIGHT\n",
    "\n",
    "# initialize pygame and create window\n",
    "pygame.init()\n",
    "screen = pygame.display.set_mode((WIDTH, HEIGHT))\n",
    "pygame.display.set_caption(\"Women in Python\")\n",
    "clock  = pygame.time.Clock()\n",
    "\n",
    "all_sprites = pygame.sprite.Group()\n",
    "player      = Player() \n",
    "all_sprites.add(player)\n",
    "\n",
    "while True:\n",
    "\t# keep loop running at the right speed\n",
    "\tclock.tick(FPS)\n",
    "\t# Process input (events)\n",
    "\tfor event in pygame.event.get():\n",
    "\t    # check for closing window\n",
    "\t\tif event.type == pygame.QUIT:\n",
    "\t\t\texit()\n",
    "\n",
    "\n",
    "\tkeys = pygame.key.get_pressed()  #checking pressed keys\t\n",
    "\n",
    "\tif keys[pygame.K_LEFT]:\n",
    "\t\tx_change = -SPEED\n",
    "\t\ty_change = 0\n",
    "\t\n",
    "\tif keys[pygame.K_RIGHT]:\n",
    "\t\tx_change = SPEED\n",
    "\t\ty_change = 0\n",
    "\n",
    "\tif keys[pygame.K_UP]:\n",
    "\t\ty_change = -SPEED\n",
    "\t\tx_change = 0\n",
    "\t\n",
    "\tif keys[pygame.K_DOWN]:\n",
    "\t\ty_change = SPEED\n",
    "\t\tx_change = 0\n",
    "\n",
    "\t# Update\n",
    "\tall_sprites.update()\n",
    "\n",
    "\t# Draw / render\n",
    "\tscreen.fill(BLUE)\n",
    "\tall_sprites.draw(screen)\n",
    "\t# *after* drawing everything, flip the display\n",
    "\tpygame.display.flip()\n",
    "\n",
    "pygame.quit()"
   ]
  },
  {
   "cell_type": "code",
   "execution_count": null,
   "metadata": {
    "collapsed": true
   },
   "outputs": [],
   "source": []
  }
 ],
 "metadata": {
  "kernelspec": {
   "display_name": "Python 3",
   "language": "python",
   "name": "python3"
  },
  "language_info": {
   "codemirror_mode": {
    "name": "ipython",
    "version": 3
   },
   "file_extension": ".py",
   "mimetype": "text/x-python",
   "name": "python",
   "nbconvert_exporter": "python",
   "pygments_lexer": "ipython3",
   "version": "3.7.1"
  }
 },
 "nbformat": 4,
 "nbformat_minor": 2
}
